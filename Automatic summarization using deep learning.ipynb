{
 "cells": [
  {
   "cell_type": "code",
   "execution_count": 1,
   "id": "4fabebeb",
   "metadata": {},
   "outputs": [
    {
     "name": "stdout",
     "output_type": "stream",
     "text": [
      "Looking in links: https://download.pytorch.org/whl/lts/1.8/torch_lts.html\n",
      "Requirement already satisfied: torch==1.8.2+cpu in e:\\users\\dell\\anaconda3\\lib\\site-packages (1.8.2+cpu)\n",
      "Requirement already satisfied: torchvision==0.9.2+cpu in e:\\users\\dell\\anaconda3\\lib\\site-packages (0.9.2+cpu)\n",
      "Requirement already satisfied: torchaudio===0.8.2 in e:\\users\\dell\\anaconda3\\lib\\site-packages (0.8.2)\n",
      "Requirement already satisfied: typing-extensions in e:\\users\\dell\\anaconda3\\lib\\site-packages (from torch==1.8.2+cpu) (3.10.0.2)\n",
      "Requirement already satisfied: numpy in e:\\users\\dell\\anaconda3\\lib\\site-packages (from torch==1.8.2+cpu) (1.20.3)\n",
      "Requirement already satisfied: pillow>=4.1.1 in e:\\users\\dell\\anaconda3\\lib\\site-packages (from torchvision==0.9.2+cpu) (8.4.0)\n"
     ]
    }
   ],
   "source": [
    "#installing pytorch\n",
    "!pip install torch==1.8.2+cpu torchvision==0.9.2+cpu torchaudio===0.8.2 -f https://download.pytorch.org/whl/lts/1.8/torch_lts.html"
   ]
  },
  {
   "cell_type": "code",
   "execution_count": 2,
   "id": "cc0a0150",
   "metadata": {},
   "outputs": [
    {
     "name": "stdout",
     "output_type": "stream",
     "text": [
      "Requirement already satisfied: transformers in e:\\users\\dell\\anaconda3\\lib\\site-packages (4.16.2)\n",
      "Requirement already satisfied: huggingface-hub<1.0,>=0.1.0 in e:\\users\\dell\\anaconda3\\lib\\site-packages (from transformers) (0.4.0)\n",
      "Requirement already satisfied: sacremoses in e:\\users\\dell\\anaconda3\\lib\\site-packages (from transformers) (0.0.47)\n",
      "Requirement already satisfied: tqdm>=4.27 in e:\\users\\dell\\anaconda3\\lib\\site-packages (from transformers) (4.62.3)\n",
      "Requirement already satisfied: requests in e:\\users\\dell\\anaconda3\\lib\\site-packages (from transformers) (2.26.0)\n",
      "Requirement already satisfied: packaging>=20.0 in e:\\users\\dell\\anaconda3\\lib\\site-packages (from transformers) (21.0)\n",
      "Requirement already satisfied: pyyaml>=5.1 in e:\\users\\dell\\anaconda3\\lib\\site-packages (from transformers) (6.0)\n",
      "Requirement already satisfied: regex!=2019.12.17 in e:\\users\\dell\\anaconda3\\lib\\site-packages (from transformers) (2021.8.3)\n",
      "Requirement already satisfied: tokenizers!=0.11.3,>=0.10.1 in e:\\users\\dell\\anaconda3\\lib\\site-packages (from transformers) (0.11.6)\n",
      "Requirement already satisfied: filelock in e:\\users\\dell\\anaconda3\\lib\\site-packages (from transformers) (3.3.1)\n",
      "Requirement already satisfied: numpy>=1.17 in e:\\users\\dell\\anaconda3\\lib\\site-packages (from transformers) (1.20.3)\n",
      "Requirement already satisfied: typing-extensions>=3.7.4.3 in e:\\users\\dell\\anaconda3\\lib\\site-packages (from huggingface-hub<1.0,>=0.1.0->transformers) (3.10.0.2)\n",
      "Requirement already satisfied: pyparsing>=2.0.2 in e:\\users\\dell\\anaconda3\\lib\\site-packages (from packaging>=20.0->transformers) (3.0.4)\n",
      "Requirement already satisfied: colorama in e:\\users\\dell\\anaconda3\\lib\\site-packages (from tqdm>=4.27->transformers) (0.4.4)\n",
      "Requirement already satisfied: urllib3<1.27,>=1.21.1 in e:\\users\\dell\\anaconda3\\lib\\site-packages (from requests->transformers) (1.26.7)\n",
      "Requirement already satisfied: certifi>=2017.4.17 in e:\\users\\dell\\anaconda3\\lib\\site-packages (from requests->transformers) (2021.10.8)\n",
      "Requirement already satisfied: idna<4,>=2.5 in e:\\users\\dell\\anaconda3\\lib\\site-packages (from requests->transformers) (3.2)\n",
      "Requirement already satisfied: charset-normalizer~=2.0.0 in e:\\users\\dell\\anaconda3\\lib\\site-packages (from requests->transformers) (2.0.4)\n",
      "Requirement already satisfied: joblib in e:\\users\\dell\\anaconda3\\lib\\site-packages (from sacremoses->transformers) (1.1.0)\n",
      "Requirement already satisfied: click in e:\\users\\dell\\anaconda3\\lib\\site-packages (from sacremoses->transformers) (8.0.3)\n",
      "Requirement already satisfied: six in e:\\users\\dell\\anaconda3\\lib\\site-packages (from sacremoses->transformers) (1.16.0)\n"
     ]
    }
   ],
   "source": [
    "#install transformers\n",
    "!pip install transformers"
   ]
  },
  {
   "cell_type": "markdown",
   "id": "ba4fe40c",
   "metadata": {},
   "source": [
    "# Import and load models"
   ]
  },
  {
   "cell_type": "code",
   "execution_count": 3,
   "id": "02d14b50",
   "metadata": {},
   "outputs": [],
   "source": [
    "#importing dependencies from transformers\n",
    "from transformers import PegasusForConditionalGeneration , PegasusTokenizer"
   ]
  },
  {
   "cell_type": "code",
   "execution_count": 4,
   "id": "cc31820c",
   "metadata": {},
   "outputs": [
    {
     "name": "stdout",
     "output_type": "stream",
     "text": [
      "Requirement already satisfied: sentencepiece in e:\\users\\dell\\anaconda3\\lib\\site-packages (0.1.96)\n"
     ]
    }
   ],
   "source": [
    "! pip install sentencepiece"
   ]
  },
  {
   "cell_type": "code",
   "execution_count": 5,
   "id": "06146f5a",
   "metadata": {},
   "outputs": [
    {
     "data": {
      "application/vnd.jupyter.widget-view+json": {
       "model_id": "5c2d554b9a6445a282a7ebfbef6e444d",
       "version_major": 2,
       "version_minor": 0
      },
      "text/plain": [
       "Downloading:   0%|          | 0.00/87.0 [00:00<?, ?B/s]"
      ]
     },
     "metadata": {},
     "output_type": "display_data"
    },
    {
     "data": {
      "application/vnd.jupyter.widget-view+json": {
       "model_id": "97358209e7f44d70920cea36de19cd15",
       "version_major": 2,
       "version_minor": 0
      },
      "text/plain": [
       "Downloading:   0%|          | 0.00/1.82M [00:00<?, ?B/s]"
      ]
     },
     "metadata": {},
     "output_type": "display_data"
    },
    {
     "data": {
      "application/vnd.jupyter.widget-view+json": {
       "model_id": "1703430076a040899a5f1e01b6263a98",
       "version_major": 2,
       "version_minor": 0
      },
      "text/plain": [
       "Downloading:   0%|          | 0.00/65.0 [00:00<?, ?B/s]"
      ]
     },
     "metadata": {},
     "output_type": "display_data"
    },
    {
     "data": {
      "application/vnd.jupyter.widget-view+json": {
       "model_id": "d022adb60be248ddbe5bf46a01f7a50a",
       "version_major": 2,
       "version_minor": 0
      },
      "text/plain": [
       "Downloading:   0%|          | 0.00/3.36M [00:00<?, ?B/s]"
      ]
     },
     "metadata": {},
     "output_type": "display_data"
    },
    {
     "data": {
      "application/vnd.jupyter.widget-view+json": {
       "model_id": "66a0bce94aef485297ed077820759bf6",
       "version_major": 2,
       "version_minor": 0
      },
      "text/plain": [
       "Downloading:   0%|          | 0.00/1.36k [00:00<?, ?B/s]"
      ]
     },
     "metadata": {},
     "output_type": "display_data"
    }
   ],
   "source": [
    "#create tokenizer\n",
    "tokenizer = PegasusTokenizer.from_pretrained(\"google/pegasus-xsum\")"
   ]
  },
  {
   "cell_type": "code",
   "execution_count": 6,
   "id": "80f64f4c",
   "metadata": {},
   "outputs": [
    {
     "data": {
      "application/vnd.jupyter.widget-view+json": {
       "model_id": "dafa233ad0664335ab6aeeec0cfe48e5",
       "version_major": 2,
       "version_minor": 0
      },
      "text/plain": [
       "Downloading:   0%|          | 0.00/2.12G [00:00<?, ?B/s]"
      ]
     },
     "metadata": {},
     "output_type": "display_data"
    }
   ],
   "source": [
    "#load model\n",
    "model= PegasusForConditionalGeneration.from_pretrained(\"google/pegasus-xsum\")"
   ]
  },
  {
   "cell_type": "markdown",
   "id": "b5f46233",
   "metadata": {},
   "source": [
    "# Abstractive summarization"
   ]
  },
  {
   "cell_type": "code",
   "execution_count": 17,
   "id": "4837463d",
   "metadata": {},
   "outputs": [],
   "source": [
    "text= \"\"\"\n",
    "Harry Potter is a series of seven fantasy novels written by British author J. K. Rowling. The novels chronicle the lives of a young wizard, Harry Potter, and his friends Hermione Granger and Ron Weasley, all of whom are students at Hogwarts School of Witchcraft and Wizardry. The main story arc concerns Harry's struggle against Lord Voldemort, a dark wizard who intends to become immortal, overthrow the wizard governing body known as the Ministry of Magic and subjugate all wizards and Muggles (non-magical people).\n",
    "\n",
    "The series was originally published in English by Bloomsbury in the United Kingdom and Scholastic Press in the United States. All versions around the world are printed by Grafica Veneta in Italy.[1] A series of many genres, including fantasy, drama, coming of age, and the British school story (which includes elements of mystery, thriller, adventure, horror, and romance), the world of Harry Potter explores numerous themes and includes many cultural meanings and references.[2] According to Rowling, the main theme is death.[3] Other major themes in the series include prejudice, corruption, and madness.[4]\n",
    "\n",
    "Since the release of the first novel, Harry Potter and the Philosopher's Stone, on 26 June 1997, the books have found immense popularity, positive reviews, and commercial success worldwide. They have attracted a wide adult audience as well as younger readers and are often considered cornerstones of modern young adult literature.[5] As of February 2018, the books have sold more than 500 million copies worldwide, making them the best-selling book series in history, and have been translated into eighty languages.[6] The last four books consecutively set records as the fastest-selling books in history, with the final instalment selling roughly 2.7 million copies in the United Kingdom and 8.3 million copies in the United States within twenty-four hours of its release.\n",
    "\n",
    "The original seven books were adapted into an eight-part namesake film series by Warner Bros. Pictures. In 2016, the total value of the Harry Potter franchise was estimated at $25 billion,[7] making Harry Potter one of the highest-grossing media franchises of all time. Harry Potter and the Cursed Child is a play based on a story co-written by Rowling.\n",
    "\n",
    "The success of the books and films has allowed the Harry Potter franchise to expand with numerous derivative works, a travelling exhibition that premiered in Chicago in 2009, a studio tour in London that opened in 2012, a digital platform on which J. K. Rowling updates the series with new information and insight, and a pentalogy of spin-off films premiering in November 2016 with Fantastic Beasts and Where to Find Them, among many other developments. Themed attractions, collectively known as The Wizarding World of Harry Potter, have been built at several Universal Parks & Resorts amusement parks around the world.\n",
    "\n",
    "\n",
    "\n",
    "\"\"\""
   ]
  },
  {
   "cell_type": "code",
   "execution_count": 18,
   "id": "b6d960d8",
   "metadata": {},
   "outputs": [],
   "source": [
    "#create tokens -number represtation of our texts\n",
    "tokens= tokenizer(text, truncation=True , padding='longest', return_tensors='pt')"
   ]
  },
  {
   "cell_type": "code",
   "execution_count": 19,
   "id": "29076a02",
   "metadata": {},
   "outputs": [
    {
     "data": {
      "text/plain": [
       "{'input_ids': tensor([[ 5849, 10173,   117,   114,   679,   113,  1761,  6528,  8810,  1158,\n",
       "           141,  1816,  1782,   907,   107,  1046,   107, 42728,   107,   139,\n",
       "          8810, 47237,   109,   965,   113,   114,   758, 16703,   108,  5849,\n",
       "         10173,   108,   111,   169,   594, 72390, 57100,   111,  7836,   184,\n",
       "          1483,  2858,   108,   149,   113,  2901,   127,   392,   134, 52637,\n",
       "           760,   113, 79685,   111, 15655,  3167,   107,   139,   674,   584,\n",
       "         12679,  2084,  5849,   131,   116,  3718,   464,  2346, 90407,   108,\n",
       "           114,  1700, 16703,   170, 14179,   112,   460, 30580,   108, 38577,\n",
       "           109, 16703, 11128,   513,   606,   130,   109,  4674,   113,  6831,\n",
       "           111, 88958,   149, 48047,   111, 10484, 62550,   143,  7323,   121,\n",
       "         70847,   200,   250,   139,   679,   140,  3273,  1299,   115,  1188,\n",
       "           141, 64452,   115,   109,   706,  4096,   111, 42378,  3007,   115,\n",
       "           109,   706,  1013,   107,   436,  3328,   279,   109,   278,   127,\n",
       "          3166,   141, 48946, 11577, 93826,   115,  3397,   107, 65077,  1100,\n",
       "           202,   679,   113,   223, 11273,   108,   330,  6528,   108,  4970,\n",
       "           108,   792,   113,   779,   108,   111,   109,  1816,   399,   584,\n",
       "           143,  2532,   709,  1811,   113,  6085,   108, 16259,   108,  2866,\n",
       "           108,  7297,   108,   111,  7717,   312,   109,   278,   113,  5849,\n",
       "         10173,  8183,  1866,  4436,   111,   709,   223,  2345, 18683,   111,\n",
       "          5607,   107,  4101, 50558,  2973,   112, 42728,   108,   109,   674,\n",
       "          1983,   117,  1323,   107,  4101, 59740,  2428,   698,  4436,   115,\n",
       "           109,   679,   444, 19518,   108,  8365,   108,   111, 20727,   107,\n",
       "          4101, 60708,  1685,   109,  1131,   113,   109,   211,  2794,   108,\n",
       "          5849, 10173,   111,   109,   110, 66218,   131,   116,  4040,   108,\n",
       "           124,  2571,  1185, 19465,   109,  1031,   133,   374, 10693,  5312,\n",
       "           108,  1259,  1558,   108,   111,  1162,   924,  2586,   107,   322,\n",
       "           133,  7814,   114,   827,  2765,  1684,   130,   210,   130,  3629,\n",
       "          2557,   111,   127,   432,  1341, 19980,   116,   113,   946,   758,\n",
       "          2765,  4413,   107,  4101,  1343,  1100,   398,   113,  1538,  3939,\n",
       "           109,  1031,   133,  1575,   154,   197,  2527,   604,  4862,  2586,\n",
       "           108,   395,   183,   109,   229,   121, 10346,   410,   679,   115,\n",
       "           689,   108,   111,   133,   174,  8839,   190, 31668,  4482,   107,\n",
       "          4101,  1717,  1100,   139,   289,   541,  1031, 69808,   323,  2125,\n",
       "           130,   109,  5266,   121, 10346,  1031,   115,   689,   108,   122,\n",
       "           109,   976, 42363,  1924,  5864, 21672,   604,  4862,   115,   109,\n",
       "           706,  4096,   111, 42948,   604,  4862,   115,   109,   706,  1013,\n",
       "           373,  4248,   121, 11388,   539,   113,   203,  1131,   107,   139,\n",
       "           856,  1761,  1031,   195,  7893,   190,   142,  1965,   121,  8316,\n",
       "         31915,   896,   679,   141, 11235, 13339,   107,  8570,   107,   222,\n",
       "          4415,   109,   916,   564,   113,   109,  5849, 10173,  5812,   140,\n",
       "          3627,   134,  8989,  1722,   108,  4101,  1954,  1100,   395,  5849,\n",
       "         10173,   156,   113,   109,  1330,   121, 58854,   636, 23618,   113,\n",
       "           149,   166,   107,  5849, 10173,   111,   109, 37029,   252,  5810,\n",
       "           117,   114,   462,   451,   124,   114,   584,  1229,   121, 13539,\n",
       "           141, 42728,   107,   139,   924,   113,   109,  1031,   111,  3265,\n",
       "           148,  1608,   109,  5849, 10173,  5812,   112,  3086,   122,  1866,\n",
       "         22869,   659,   108,   114,  5467,  3388,   120, 23251,   115,  2501,\n",
       "           115,  7810,   114,  2549,  1473,   115,  1169,   120,  1963,   115,\n",
       "          5951,   114,  1016,  1258,   124,   162,   907,   107,  1046,   107,\n",
       "         42728,  2340,   109,   679,   122,   177,   257,   111,  3963,   108,\n",
       "           111,   114, 56573, 26648,   113,  5588,   121,  2467,  3265, 71104,\n",
       "           115,     1]]), 'attention_mask': tensor([[1, 1, 1, 1, 1, 1, 1, 1, 1, 1, 1, 1, 1, 1, 1, 1, 1, 1, 1, 1, 1, 1, 1, 1,\n",
       "         1, 1, 1, 1, 1, 1, 1, 1, 1, 1, 1, 1, 1, 1, 1, 1, 1, 1, 1, 1, 1, 1, 1, 1,\n",
       "         1, 1, 1, 1, 1, 1, 1, 1, 1, 1, 1, 1, 1, 1, 1, 1, 1, 1, 1, 1, 1, 1, 1, 1,\n",
       "         1, 1, 1, 1, 1, 1, 1, 1, 1, 1, 1, 1, 1, 1, 1, 1, 1, 1, 1, 1, 1, 1, 1, 1,\n",
       "         1, 1, 1, 1, 1, 1, 1, 1, 1, 1, 1, 1, 1, 1, 1, 1, 1, 1, 1, 1, 1, 1, 1, 1,\n",
       "         1, 1, 1, 1, 1, 1, 1, 1, 1, 1, 1, 1, 1, 1, 1, 1, 1, 1, 1, 1, 1, 1, 1, 1,\n",
       "         1, 1, 1, 1, 1, 1, 1, 1, 1, 1, 1, 1, 1, 1, 1, 1, 1, 1, 1, 1, 1, 1, 1, 1,\n",
       "         1, 1, 1, 1, 1, 1, 1, 1, 1, 1, 1, 1, 1, 1, 1, 1, 1, 1, 1, 1, 1, 1, 1, 1,\n",
       "         1, 1, 1, 1, 1, 1, 1, 1, 1, 1, 1, 1, 1, 1, 1, 1, 1, 1, 1, 1, 1, 1, 1, 1,\n",
       "         1, 1, 1, 1, 1, 1, 1, 1, 1, 1, 1, 1, 1, 1, 1, 1, 1, 1, 1, 1, 1, 1, 1, 1,\n",
       "         1, 1, 1, 1, 1, 1, 1, 1, 1, 1, 1, 1, 1, 1, 1, 1, 1, 1, 1, 1, 1, 1, 1, 1,\n",
       "         1, 1, 1, 1, 1, 1, 1, 1, 1, 1, 1, 1, 1, 1, 1, 1, 1, 1, 1, 1, 1, 1, 1, 1,\n",
       "         1, 1, 1, 1, 1, 1, 1, 1, 1, 1, 1, 1, 1, 1, 1, 1, 1, 1, 1, 1, 1, 1, 1, 1,\n",
       "         1, 1, 1, 1, 1, 1, 1, 1, 1, 1, 1, 1, 1, 1, 1, 1, 1, 1, 1, 1, 1, 1, 1, 1,\n",
       "         1, 1, 1, 1, 1, 1, 1, 1, 1, 1, 1, 1, 1, 1, 1, 1, 1, 1, 1, 1, 1, 1, 1, 1,\n",
       "         1, 1, 1, 1, 1, 1, 1, 1, 1, 1, 1, 1, 1, 1, 1, 1, 1, 1, 1, 1, 1, 1, 1, 1,\n",
       "         1, 1, 1, 1, 1, 1, 1, 1, 1, 1, 1, 1, 1, 1, 1, 1, 1, 1, 1, 1, 1, 1, 1, 1,\n",
       "         1, 1, 1, 1, 1, 1, 1, 1, 1, 1, 1, 1, 1, 1, 1, 1, 1, 1, 1, 1, 1, 1, 1, 1,\n",
       "         1, 1, 1, 1, 1, 1, 1, 1, 1, 1, 1, 1, 1, 1, 1, 1, 1, 1, 1, 1, 1, 1, 1, 1,\n",
       "         1, 1, 1, 1, 1, 1, 1, 1, 1, 1, 1, 1, 1, 1, 1, 1, 1, 1, 1, 1, 1, 1, 1, 1,\n",
       "         1, 1, 1, 1, 1, 1, 1, 1, 1, 1, 1, 1, 1, 1, 1, 1, 1, 1, 1, 1, 1, 1, 1, 1,\n",
       "         1, 1, 1, 1, 1, 1, 1, 1]])}"
      ]
     },
     "execution_count": 19,
     "metadata": {},
     "output_type": "execute_result"
    }
   ],
   "source": [
    "tokens"
   ]
  },
  {
   "cell_type": "code",
   "execution_count": 20,
   "id": "f95f5f6a",
   "metadata": {},
   "outputs": [],
   "source": [
    "#summarize\n",
    "summary=model.generate(**tokens)"
   ]
  },
  {
   "cell_type": "code",
   "execution_count": 21,
   "id": "5bf7a75f",
   "metadata": {},
   "outputs": [
    {
     "data": {
      "text/plain": [
       "{'input_ids': tensor([[ 5849, 10173,   117,   114,   679,   113,  1761,  6528,  8810,  1158,\n",
       "            141,  1816,  1782,   907,   107,  1046,   107, 42728,   107,   139,\n",
       "           8810, 47237,   109,   965,   113,   114,   758, 16703,   108,  5849,\n",
       "          10173,   108,   111,   169,   594, 72390, 57100,   111,  7836,   184,\n",
       "           1483,  2858,   108,   149,   113,  2901,   127,   392,   134, 52637,\n",
       "            760,   113, 79685,   111, 15655,  3167,   107,   139,   674,   584,\n",
       "          12679,  2084,  5849,   131,   116,  3718,   464,  2346, 90407,   108,\n",
       "            114,  1700, 16703,   170, 14179,   112,   460, 30580,   108, 38577,\n",
       "            109, 16703, 11128,   513,   606,   130,   109,  4674,   113,  6831,\n",
       "            111, 88958,   149, 48047,   111, 10484, 62550,   143,  7323,   121,\n",
       "          70847,   200,   250,   139,   679,   140,  3273,  1299,   115,  1188,\n",
       "            141, 64452,   115,   109,   706,  4096,   111, 42378,  3007,   115,\n",
       "            109,   706,  1013,   107,   436,  3328,   279,   109,   278,   127,\n",
       "           3166,   141, 48946, 11577, 93826,   115,  3397,   107, 65077,  1100,\n",
       "            202,   679,   113,   223, 11273,   108,   330,  6528,   108,  4970,\n",
       "            108,   792,   113,   779,   108,   111,   109,  1816,   399,   584,\n",
       "            143,  2532,   709,  1811,   113,  6085,   108, 16259,   108,  2866,\n",
       "            108,  7297,   108,   111,  7717,   312,   109,   278,   113,  5849,\n",
       "          10173,  8183,  1866,  4436,   111,   709,   223,  2345, 18683,   111,\n",
       "           5607,   107,  4101, 50558,  2973,   112, 42728,   108,   109,   674,\n",
       "           1983,   117,  1323,   107,  4101, 59740,  2428,   698,  4436,   115,\n",
       "            109,   679,   444, 19518,   108,  8365,   108,   111, 20727,   107,\n",
       "           4101, 60708,  1685,   109,  1131,   113,   109,   211,  2794,   108,\n",
       "           5849, 10173,   111,   109,   110, 66218,   131,   116,  4040,   108,\n",
       "            124,  2571,  1185, 19465,   109,  1031,   133,   374, 10693,  5312,\n",
       "            108,  1259,  1558,   108,   111,  1162,   924,  2586,   107,   322,\n",
       "            133,  7814,   114,   827,  2765,  1684,   130,   210,   130,  3629,\n",
       "           2557,   111,   127,   432,  1341, 19980,   116,   113,   946,   758,\n",
       "           2765,  4413,   107,  4101,  1343,  1100,   398,   113,  1538,  3939,\n",
       "            109,  1031,   133,  1575,   154,   197,  2527,   604,  4862,  2586,\n",
       "            108,   395,   183,   109,   229,   121, 10346,   410,   679,   115,\n",
       "            689,   108,   111,   133,   174,  8839,   190, 31668,  4482,   107,\n",
       "           4101,  1717,  1100,   139,   289,   541,  1031, 69808,   323,  2125,\n",
       "            130,   109,  5266,   121, 10346,  1031,   115,   689,   108,   122,\n",
       "            109,   976, 42363,  1924,  5864, 21672,   604,  4862,   115,   109,\n",
       "            706,  4096,   111, 42948,   604,  4862,   115,   109,   706,  1013,\n",
       "            373,  4248,   121, 11388,   539,   113,   203,  1131,   107,   139,\n",
       "            856,  1761,  1031,   195,  7893,   190,   142,  1965,   121,  8316,\n",
       "          31915,   896,   679,   141, 11235, 13339,   107,  8570,   107,   222,\n",
       "           4415,   109,   916,   564,   113,   109,  5849, 10173,  5812,   140,\n",
       "           3627,   134,  8989,  1722,   108,  4101,  1954,  1100,   395,  5849,\n",
       "          10173,   156,   113,   109,  1330,   121, 58854,   636, 23618,   113,\n",
       "            149,   166,   107,  5849, 10173,   111,   109, 37029,   252,  5810,\n",
       "            117,   114,   462,   451,   124,   114,   584,  1229,   121, 13539,\n",
       "            141, 42728,   107,   139,   924,   113,   109,  1031,   111,  3265,\n",
       "            148,  1608,   109,  5849, 10173,  5812,   112,  3086,   122,  1866,\n",
       "          22869,   659,   108,   114,  5467,  3388,   120, 23251,   115,  2501,\n",
       "            115,  7810,   114,  2549,  1473,   115,  1169,   120,  1963,   115,\n",
       "           5951,   114,  1016,  1258,   124,   162,   907,   107,  1046,   107,\n",
       "          42728,  2340,   109,   679,   122,   177,   257,   111,  3963,   108,\n",
       "            111,   114, 56573, 26648,   113,  5588,   121,  2467,  3265, 71104,\n",
       "            115,     1]]),\n",
       " 'attention_mask': tensor([[1, 1, 1, 1, 1, 1, 1, 1, 1, 1, 1, 1, 1, 1, 1, 1, 1, 1, 1, 1, 1, 1, 1, 1,\n",
       "          1, 1, 1, 1, 1, 1, 1, 1, 1, 1, 1, 1, 1, 1, 1, 1, 1, 1, 1, 1, 1, 1, 1, 1,\n",
       "          1, 1, 1, 1, 1, 1, 1, 1, 1, 1, 1, 1, 1, 1, 1, 1, 1, 1, 1, 1, 1, 1, 1, 1,\n",
       "          1, 1, 1, 1, 1, 1, 1, 1, 1, 1, 1, 1, 1, 1, 1, 1, 1, 1, 1, 1, 1, 1, 1, 1,\n",
       "          1, 1, 1, 1, 1, 1, 1, 1, 1, 1, 1, 1, 1, 1, 1, 1, 1, 1, 1, 1, 1, 1, 1, 1,\n",
       "          1, 1, 1, 1, 1, 1, 1, 1, 1, 1, 1, 1, 1, 1, 1, 1, 1, 1, 1, 1, 1, 1, 1, 1,\n",
       "          1, 1, 1, 1, 1, 1, 1, 1, 1, 1, 1, 1, 1, 1, 1, 1, 1, 1, 1, 1, 1, 1, 1, 1,\n",
       "          1, 1, 1, 1, 1, 1, 1, 1, 1, 1, 1, 1, 1, 1, 1, 1, 1, 1, 1, 1, 1, 1, 1, 1,\n",
       "          1, 1, 1, 1, 1, 1, 1, 1, 1, 1, 1, 1, 1, 1, 1, 1, 1, 1, 1, 1, 1, 1, 1, 1,\n",
       "          1, 1, 1, 1, 1, 1, 1, 1, 1, 1, 1, 1, 1, 1, 1, 1, 1, 1, 1, 1, 1, 1, 1, 1,\n",
       "          1, 1, 1, 1, 1, 1, 1, 1, 1, 1, 1, 1, 1, 1, 1, 1, 1, 1, 1, 1, 1, 1, 1, 1,\n",
       "          1, 1, 1, 1, 1, 1, 1, 1, 1, 1, 1, 1, 1, 1, 1, 1, 1, 1, 1, 1, 1, 1, 1, 1,\n",
       "          1, 1, 1, 1, 1, 1, 1, 1, 1, 1, 1, 1, 1, 1, 1, 1, 1, 1, 1, 1, 1, 1, 1, 1,\n",
       "          1, 1, 1, 1, 1, 1, 1, 1, 1, 1, 1, 1, 1, 1, 1, 1, 1, 1, 1, 1, 1, 1, 1, 1,\n",
       "          1, 1, 1, 1, 1, 1, 1, 1, 1, 1, 1, 1, 1, 1, 1, 1, 1, 1, 1, 1, 1, 1, 1, 1,\n",
       "          1, 1, 1, 1, 1, 1, 1, 1, 1, 1, 1, 1, 1, 1, 1, 1, 1, 1, 1, 1, 1, 1, 1, 1,\n",
       "          1, 1, 1, 1, 1, 1, 1, 1, 1, 1, 1, 1, 1, 1, 1, 1, 1, 1, 1, 1, 1, 1, 1, 1,\n",
       "          1, 1, 1, 1, 1, 1, 1, 1, 1, 1, 1, 1, 1, 1, 1, 1, 1, 1, 1, 1, 1, 1, 1, 1,\n",
       "          1, 1, 1, 1, 1, 1, 1, 1, 1, 1, 1, 1, 1, 1, 1, 1, 1, 1, 1, 1, 1, 1, 1, 1,\n",
       "          1, 1, 1, 1, 1, 1, 1, 1, 1, 1, 1, 1, 1, 1, 1, 1, 1, 1, 1, 1, 1, 1, 1, 1,\n",
       "          1, 1, 1, 1, 1, 1, 1, 1, 1, 1, 1, 1, 1, 1, 1, 1, 1, 1, 1, 1, 1, 1, 1, 1,\n",
       "          1, 1, 1, 1, 1, 1, 1, 1]])}"
      ]
     },
     "execution_count": 21,
     "metadata": {},
     "output_type": "execute_result"
    }
   ],
   "source": [
    "{**tokens}"
   ]
  },
  {
   "cell_type": "code",
   "execution_count": 22,
   "id": "3b6b2241",
   "metadata": {},
   "outputs": [
    {
     "data": {
      "text/plain": [
       "tensor([[    0,  5849, 10173,   111,   109, 37029,   252,  5810,   117,   114,\n",
       "           462,   451,   124,   114,   584,  1229,   121, 13539,   141, 42728,\n",
       "           107,     1]])"
      ]
     },
     "execution_count": 22,
     "metadata": {},
     "output_type": "execute_result"
    }
   ],
   "source": [
    "#summary in tokens\n",
    "summary"
   ]
  },
  {
   "cell_type": "code",
   "execution_count": 23,
   "id": "75f893b3",
   "metadata": {},
   "outputs": [
    {
     "data": {
      "text/plain": [
       "'Harry Potter and the Cursed Child is a play based on a story co-written by Rowling.'"
      ]
     },
     "execution_count": 23,
     "metadata": {},
     "output_type": "execute_result"
    }
   ],
   "source": [
    "#decoding summary\n",
    "tokenizer.decode(summary[0])"
   ]
  },
  {
   "cell_type": "code",
   "execution_count": null,
   "id": "20ee36ee",
   "metadata": {},
   "outputs": [],
   "source": []
  }
 ],
 "metadata": {
  "kernelspec": {
   "display_name": "Python 3 (ipykernel)",
   "language": "python",
   "name": "python3"
  },
  "language_info": {
   "codemirror_mode": {
    "name": "ipython",
    "version": 3
   },
   "file_extension": ".py",
   "mimetype": "text/x-python",
   "name": "python",
   "nbconvert_exporter": "python",
   "pygments_lexer": "ipython3",
   "version": "3.9.7"
  }
 },
 "nbformat": 4,
 "nbformat_minor": 5
}
